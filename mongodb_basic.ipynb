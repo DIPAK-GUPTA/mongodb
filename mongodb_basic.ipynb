{
 "cells": [
  {
   "cell_type": "code",
   "execution_count": 1,
   "metadata": {},
   "outputs": [],
   "source": [
    "import pymongo"
   ]
  },
  {
   "cell_type": "markdown",
   "metadata": {},
   "source": [
    "### insert one"
   ]
  },
  {
   "cell_type": "code",
   "execution_count": 2,
   "metadata": {},
   "outputs": [],
   "source": [
    "mongo_client = pymongo.MongoClient('mongodb://127.0.0.1:27017/')\n",
    "my_mongo = mongo_client.client['employee']"
   ]
  },
  {
   "cell_type": "code",
   "execution_count": 25,
   "metadata": {},
   "outputs": [],
   "source": [
    "data ={'firstname':'deepak',\n",
    "    'lastname':'gupta',\n",
    "    'age':29,\n",
    "    'location':'buxar'}"
   ]
  },
  {
   "cell_type": "code",
   "execution_count": 26,
   "metadata": {},
   "outputs": [
    {
     "data": {
      "text/plain": [
       "<pymongo.results.InsertOneResult at 0x24ee72294c8>"
      ]
     },
     "execution_count": 26,
     "metadata": {},
     "output_type": "execute_result"
    }
   ],
   "source": [
    "my_mongo.insert_one(data)"
   ]
  },
  {
   "cell_type": "markdown",
   "metadata": {},
   "source": [
    "### insert many"
   ]
  },
  {
   "cell_type": "code",
   "execution_count": 3,
   "metadata": {},
   "outputs": [],
   "source": [
    "mongo_client = pymongo.MongoClient('mongodb://127.0.0.1:27017/')\n",
    "my_mongo = mongo_client.client['details']"
   ]
  },
  {
   "cell_type": "code",
   "execution_count": 4,
   "metadata": {},
   "outputs": [],
   "source": [
    "dataa =[\n",
    "    {'firstname':'deepak',\n",
    "    'lastname':'gupta',\n",
    "    'age':29,\n",
    "    'location':'buxar'},\n",
    "    \n",
    "    {'firstname':'rajesh',\n",
    "    'lastname':'gupta',\n",
    "    'age':26,\n",
    "    'rollno':'reotipur'},\n",
    "    \n",
    "    {'firstname':'pankaj',\n",
    "    'lastname':'kumar',\n",
    "    'age':32,\n",
    "    'location':'patna'},\n",
    "    \n",
    "    {'firstname':'manish',\n",
    "    'lastname':'chand',\n",
    "    'age':15,\n",
    "    'location':'tilwa'}\n",
    "    ]"
   ]
  },
  {
   "cell_type": "code",
   "execution_count": 5,
   "metadata": {},
   "outputs": [
    {
     "data": {
      "text/plain": [
       "<pymongo.results.InsertManyResult at 0x1a518014348>"
      ]
     },
     "execution_count": 5,
     "metadata": {},
     "output_type": "execute_result"
    }
   ],
   "source": [
    "my_mongo.insert_many(dataa)"
   ]
  },
  {
   "cell_type": "code",
   "execution_count": 30,
   "metadata": {},
   "outputs": [
    {
     "data": {
      "text/plain": [
       "<bound method Collection.index_information of Collection(Database(MongoClient(host=['127.0.0.1:27017'], document_class=dict, tz_aware=False, connect=True), 'client'), 'details')>"
      ]
     },
     "execution_count": 30,
     "metadata": {},
     "output_type": "execute_result"
    }
   ],
   "source": [
    "my_mongo.index_information"
   ]
  },
  {
   "cell_type": "code",
   "execution_count": 32,
   "metadata": {},
   "outputs": [
    {
     "data": {
      "text/plain": [
       "{'_id': ObjectId('5f43350b7e27b5d6e5c02a33'),\n",
       " 'firstname': 'deepak',\n",
       " 'lastname': 'gupta',\n",
       " 'age': 29,\n",
       " 'location': 'buxar'}"
      ]
     },
     "execution_count": 32,
     "metadata": {},
     "output_type": "execute_result"
    }
   ],
   "source": [
    "my_mongo.find_one()"
   ]
  },
  {
   "cell_type": "code",
   "execution_count": 33,
   "metadata": {},
   "outputs": [
    {
     "name": "stdout",
     "output_type": "stream",
     "text": [
      "{'_id': ObjectId('5f43350b7e27b5d6e5c02a33'), 'firstname': 'deepak', 'lastname': 'gupta', 'age': 29, 'location': 'buxar'}\n",
      "{'_id': ObjectId('5f43350b7e27b5d6e5c02a34'), 'firstname': 'rajesh', 'lastname': 'gupta', 'age': 26, 'rollno': 'reotipur'}\n",
      "{'_id': ObjectId('5f43350b7e27b5d6e5c02a35'), 'firstname': 'pankaj', 'lastname': 'kumar', 'age': 32, 'location': 'patna'}\n",
      "{'_id': ObjectId('5f43350b7e27b5d6e5c02a36'), 'firstname': 'manish', 'lastname': 'chand', 'age': 15, 'location': 'tilwa'}\n"
     ]
    }
   ],
   "source": [
    "for each in my_mongo.find():\n",
    "    print(each)"
   ]
  },
  {
   "cell_type": "code",
   "execution_count": 34,
   "metadata": {},
   "outputs": [
    {
     "data": {
      "text/plain": [
       "<pymongo.cursor.Cursor at 0x24ee6667a08>"
      ]
     },
     "execution_count": 34,
     "metadata": {},
     "output_type": "execute_result"
    }
   ],
   "source": [
    "my_mongo.find({'firstname': 'deepak'})"
   ]
  },
  {
   "cell_type": "code",
   "execution_count": 35,
   "metadata": {},
   "outputs": [
    {
     "name": "stdout",
     "output_type": "stream",
     "text": [
      "{'_id': ObjectId('5f43350b7e27b5d6e5c02a33'), 'firstname': 'deepak', 'lastname': 'gupta', 'age': 29, 'location': 'buxar'}\n"
     ]
    }
   ],
   "source": [
    "for mm in my_mongo.find({'firstname': 'deepak'}):\n",
    "    print(mm)"
   ]
  },
  {
   "cell_type": "code",
   "execution_count": 36,
   "metadata": {},
   "outputs": [
    {
     "name": "stdout",
     "output_type": "stream",
     "text": [
      "{'_id': ObjectId('5f43350b7e27b5d6e5c02a35'), 'firstname': 'pankaj', 'lastname': 'kumar', 'age': 32, 'location': 'patna'}\n"
     ]
    }
   ],
   "source": [
    "\n",
    "for mm in my_mongo.find({'firstname': 'pankaj'}):\n",
    "    print(mm)"
   ]
  },
  {
   "cell_type": "markdown",
   "metadata": {},
   "source": [
    "# $ lt"
   ]
  },
  {
   "cell_type": "code",
   "execution_count": 37,
   "metadata": {},
   "outputs": [
    {
     "name": "stdout",
     "output_type": "stream",
     "text": [
      "{'_id': ObjectId('5f43350b7e27b5d6e5c02a33'), 'firstname': 'deepak', 'lastname': 'gupta', 'age': 29, 'location': 'buxar'}\n",
      "{'_id': ObjectId('5f43350b7e27b5d6e5c02a35'), 'firstname': 'pankaj', 'lastname': 'kumar', 'age': 32, 'location': 'patna'}\n"
     ]
    }
   ],
   "source": [
    "for mm in my_mongo.find({'firstname': {'$in':['deepak','pankaj']}}):\n",
    "    print(mm)"
   ]
  },
  {
   "cell_type": "code",
   "execution_count": 38,
   "metadata": {},
   "outputs": [
    {
     "name": "stdout",
     "output_type": "stream",
     "text": [
      "{'_id': ObjectId('5f43350b7e27b5d6e5c02a33'), 'firstname': 'deepak', 'lastname': 'gupta', 'age': 29, 'location': 'buxar'}\n"
     ]
    }
   ],
   "source": [
    "for mm in my_mongo.find({'firstname': 'deepak','age':{'$lt':35}}):\n",
    "    print(mm)"
   ]
  },
  {
   "cell_type": "code",
   "execution_count": 39,
   "metadata": {},
   "outputs": [],
   "source": [
    "for mm in my_mongo.find({'firstname': 'deepak','age':{'$lt':25}}):\n",
    "    print(mm)"
   ]
  },
  {
   "cell_type": "markdown",
   "metadata": {},
   "source": [
    "# $ gt"
   ]
  },
  {
   "cell_type": "code",
   "execution_count": 40,
   "metadata": {},
   "outputs": [
    {
     "name": "stdout",
     "output_type": "stream",
     "text": [
      "{'_id': ObjectId('5f43350b7e27b5d6e5c02a33'), 'firstname': 'deepak', 'lastname': 'gupta', 'age': 29, 'location': 'buxar'}\n"
     ]
    }
   ],
   "source": [
    "for mm in my_mongo.find({'firstname': 'deepak','age':{'$gt':25}}):\n",
    "    print(mm)"
   ]
  },
  {
   "cell_type": "code",
   "execution_count": 41,
   "metadata": {},
   "outputs": [],
   "source": [
    "for mm in my_mongo.find({'firstname': 'deepak','age':{'$gt':35}}):\n",
    "    print(mm)"
   ]
  },
  {
   "cell_type": "markdown",
   "metadata": {},
   "source": [
    "# $or"
   ]
  },
  {
   "cell_type": "code",
   "execution_count": 10,
   "metadata": {},
   "outputs": [
    {
     "name": "stdout",
     "output_type": "stream",
     "text": [
      "{'_id': ObjectId('5f43350b7e27b5d6e5c02a33'), 'firstname': 'deepak', 'lastname': 'gupta', 'age': 29, 'location': 'buxar'}\n",
      "{'_id': ObjectId('5f43350b7e27b5d6e5c02a36'), 'firstname': 'manish', 'lastname': 'chand', 'age': 15, 'location': 'tilwa'}\n"
     ]
    }
   ],
   "source": [
    "for mm in my_mongo.find({'$or':[{'firstname': 'deepak'},{'age':15}]}):\n",
    "    print(mm)"
   ]
  },
  {
   "cell_type": "markdown",
   "metadata": {},
   "source": [
    "# $ and"
   ]
  },
  {
   "cell_type": "code",
   "execution_count": null,
   "metadata": {},
   "outputs": [],
   "source": []
  }
 ],
 "metadata": {
  "kernelspec": {
   "display_name": "Python 3",
   "language": "python",
   "name": "python3"
  },
  "language_info": {
   "codemirror_mode": {
    "name": "ipython",
    "version": 3
   },
   "file_extension": ".py",
   "mimetype": "text/x-python",
   "name": "python",
   "nbconvert_exporter": "python",
   "pygments_lexer": "ipython3",
   "version": "3.7.4"
  }
 },
 "nbformat": 4,
 "nbformat_minor": 2
}
